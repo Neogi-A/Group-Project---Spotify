{
 "cells": [
  {
   "cell_type": "markdown",
   "metadata": {},
   "source": [
    "# Song Popularity on Spotify over Time"
   ]
  },
  {
   "cell_type": "markdown",
   "metadata": {},
   "source": [
    "## Introduction: \n",
    "*Spotify is one of the world's biggest audio streaming service provider. Launched in late 2008, it had rapidly gained popularity as it provides unlimited access to people using a \"freemium\" model of bussiness. Which means one can use it for free (with advertisements and lower sound quality) or one can pay for premium for additional features. As spotify is a very largerly used medium for acessing music the data collected from there is a good way to find out how \"popular\" a song is.*\n",
    "![Markdown Logo is here.](https://i.guim.co.uk/img/media/ae483ce4f1bfc5497fee1b5387711d1ff0172ec9/232_0_3268_1963/master/3268.jpg?width=1200&quality=85&auto=format&fit=max&s=fcfceea59329a6bee9c9b75dd8d7a055)\n",
    "## Objective: \n",
    "*Different Parametres of a song effect its popularity, the at what level these parametres change and how much they effect the popularity changes over time.*\n",
    "\n",
    "Our objective is to investigate the optimal levels of multiple parameters make a song most likely to be popular. \n",
    "\n",
    "## Overview:\n",
    "\n",
    "1. Tidy the data we found from <a href=\"url\" target=\"https://www.kaggle.com/yamaerenay/spotify-dataset-19212020-160k-tracks\"> Kaggle </a> and keep only the columns with parametres that we will use to predict the popularity of a song. This data set contains ...\n",
    "    * bla \n",
    "    * bla\n",
    "    * bla\n",
    "2. Spotify has around 12 years of data, we will break this into sections of 3 years using 'filter' on the Year column. \n",
    "\n",
    "3. Once the data is tidy we will standardise it so each parametre is represented fairly in our investigation.\n",
    "\n",
    "4. Ok now idk what to do (: \n",
    "\n",
    "## Expected Outcome: \n",
    "\n",
    "We think that... \n",
    "\n"
   ]
  },
  {
   "cell_type": "code",
   "execution_count": 8,
   "metadata": {},
   "outputs": [],
   "source": [
    "# Loading the libraries\n",
    "library(tidyverse)\n",
    "library(repr)\n",
    "library(tidymodels)\n",
    "options(repr.matrix.max.rows = 6)"
   ]
  },
  {
   "cell_type": "code",
   "execution_count": 9,
   "metadata": {},
   "outputs": [
    {
     "name": "stderr",
     "output_type": "stream",
     "text": [
      "Parsed with column specification:\n",
      "cols(\n",
      "  year = \u001b[32mcol_double()\u001b[39m,\n",
      "  acousticness = \u001b[32mcol_double()\u001b[39m,\n",
      "  danceability = \u001b[32mcol_double()\u001b[39m,\n",
      "  duration_ms = \u001b[32mcol_double()\u001b[39m,\n",
      "  energy = \u001b[32mcol_double()\u001b[39m,\n",
      "  instrumentalness = \u001b[32mcol_double()\u001b[39m,\n",
      "  liveness = \u001b[32mcol_double()\u001b[39m,\n",
      "  loudness = \u001b[32mcol_double()\u001b[39m,\n",
      "  speechiness = \u001b[32mcol_double()\u001b[39m,\n",
      "  tempo = \u001b[32mcol_double()\u001b[39m,\n",
      "  valence = \u001b[32mcol_double()\u001b[39m,\n",
      "  popularity = \u001b[32mcol_double()\u001b[39m,\n",
      "  key = \u001b[32mcol_double()\u001b[39m,\n",
      "  mode = \u001b[32mcol_double()\u001b[39m\n",
      ")\n",
      "\n"
     ]
    },
    {
     "data": {
      "text/html": [
       "<table>\n",
       "<caption>A spec_tbl_df: 102 × 14</caption>\n",
       "<thead>\n",
       "\t<tr><th scope=col>year</th><th scope=col>acousticness</th><th scope=col>danceability</th><th scope=col>duration_ms</th><th scope=col>energy</th><th scope=col>instrumentalness</th><th scope=col>liveness</th><th scope=col>loudness</th><th scope=col>speechiness</th><th scope=col>tempo</th><th scope=col>valence</th><th scope=col>popularity</th><th scope=col>key</th><th scope=col>mode</th></tr>\n",
       "\t<tr><th scope=col>&lt;dbl&gt;</th><th scope=col>&lt;dbl&gt;</th><th scope=col>&lt;dbl&gt;</th><th scope=col>&lt;dbl&gt;</th><th scope=col>&lt;dbl&gt;</th><th scope=col>&lt;dbl&gt;</th><th scope=col>&lt;dbl&gt;</th><th scope=col>&lt;dbl&gt;</th><th scope=col>&lt;dbl&gt;</th><th scope=col>&lt;dbl&gt;</th><th scope=col>&lt;dbl&gt;</th><th scope=col>&lt;dbl&gt;</th><th scope=col>&lt;dbl&gt;</th><th scope=col>&lt;dbl&gt;</th></tr>\n",
       "</thead>\n",
       "<tbody>\n",
       "\t<tr><td>1920</td><td>0.6312423</td><td>0.5157501</td><td>238093.0</td><td>0.4186996</td><td>0.3542185</td><td>0.2160493</td><td>-12.65402</td><td>0.08298367</td><td>113.2269</td><td>0.4982100</td><td>0.61031519</td><td>2</td><td>1</td></tr>\n",
       "\t<tr><td>1921</td><td>0.8621051</td><td>0.4321705</td><td>257891.8</td><td>0.2411363</td><td>0.3371583</td><td>0.2052186</td><td>-16.81166</td><td>0.07895192</td><td>102.4254</td><td>0.3782756</td><td>0.39102564</td><td>2</td><td>1</td></tr>\n",
       "\t<tr><td>1922</td><td>0.8289339</td><td>0.5756198</td><td>140135.1</td><td>0.2261726</td><td>0.2547755</td><td>0.2566620</td><td>-20.84008</td><td>0.46436777</td><td>100.0331</td><td>0.5711901</td><td>0.09090909</td><td>5</td><td>1</td></tr>\n",
       "\t<tr><td>⋮</td><td>⋮</td><td>⋮</td><td>⋮</td><td>⋮</td><td>⋮</td><td>⋮</td><td>⋮</td><td>⋮</td><td>⋮</td><td>⋮</td><td>⋮</td><td>⋮</td><td>⋮</td></tr>\n",
       "\t<tr><td>2019</td><td>0.2613443</td><td>0.6031014</td><td>225463.3</td><td>0.6297811</td><td>0.2211233</td><td>0.2185007</td><td>-8.527674</td><td>0.1068201</td><td>122.4197</td><td>0.4578132</td><td>32.346930</td><td>7</td><td>1</td></tr>\n",
       "\t<tr><td>2020</td><td>0.2023032</td><td>0.6052854</td><td>218977.5</td><td>0.6742474</td><td>0.2490081</td><td>0.2344148</td><td>-8.077563</td><td>0.1006286</td><td>124.0583</td><td>0.4680301</td><td>24.064741</td><td>0</td><td>1</td></tr>\n",
       "\t<tr><td>2021</td><td>0.3402534</td><td>0.6524884</td><td>222760.0</td><td>0.5788958</td><td>0.3567655</td><td>0.1623094</td><td>-9.547752</td><td>0.1085589</td><td>120.5259</td><td>0.4519082</td><td> 7.750543</td><td>7</td><td>1</td></tr>\n",
       "</tbody>\n",
       "</table>\n"
      ],
      "text/latex": [
       "A spec\\_tbl\\_df: 102 × 14\n",
       "\\begin{tabular}{llllllllllllll}\n",
       " year & acousticness & danceability & duration\\_ms & energy & instrumentalness & liveness & loudness & speechiness & tempo & valence & popularity & key & mode\\\\\n",
       " <dbl> & <dbl> & <dbl> & <dbl> & <dbl> & <dbl> & <dbl> & <dbl> & <dbl> & <dbl> & <dbl> & <dbl> & <dbl> & <dbl>\\\\\n",
       "\\hline\n",
       "\t 1920 & 0.6312423 & 0.5157501 & 238093.0 & 0.4186996 & 0.3542185 & 0.2160493 & -12.65402 & 0.08298367 & 113.2269 & 0.4982100 & 0.61031519 & 2 & 1\\\\\n",
       "\t 1921 & 0.8621051 & 0.4321705 & 257891.8 & 0.2411363 & 0.3371583 & 0.2052186 & -16.81166 & 0.07895192 & 102.4254 & 0.3782756 & 0.39102564 & 2 & 1\\\\\n",
       "\t 1922 & 0.8289339 & 0.5756198 & 140135.1 & 0.2261726 & 0.2547755 & 0.2566620 & -20.84008 & 0.46436777 & 100.0331 & 0.5711901 & 0.09090909 & 5 & 1\\\\\n",
       "\t ⋮ & ⋮ & ⋮ & ⋮ & ⋮ & ⋮ & ⋮ & ⋮ & ⋮ & ⋮ & ⋮ & ⋮ & ⋮ & ⋮\\\\\n",
       "\t 2019 & 0.2613443 & 0.6031014 & 225463.3 & 0.6297811 & 0.2211233 & 0.2185007 & -8.527674 & 0.1068201 & 122.4197 & 0.4578132 & 32.346930 & 7 & 1\\\\\n",
       "\t 2020 & 0.2023032 & 0.6052854 & 218977.5 & 0.6742474 & 0.2490081 & 0.2344148 & -8.077563 & 0.1006286 & 124.0583 & 0.4680301 & 24.064741 & 0 & 1\\\\\n",
       "\t 2021 & 0.3402534 & 0.6524884 & 222760.0 & 0.5788958 & 0.3567655 & 0.1623094 & -9.547752 & 0.1085589 & 120.5259 & 0.4519082 &  7.750543 & 7 & 1\\\\\n",
       "\\end{tabular}\n"
      ],
      "text/markdown": [
       "\n",
       "A spec_tbl_df: 102 × 14\n",
       "\n",
       "| year &lt;dbl&gt; | acousticness &lt;dbl&gt; | danceability &lt;dbl&gt; | duration_ms &lt;dbl&gt; | energy &lt;dbl&gt; | instrumentalness &lt;dbl&gt; | liveness &lt;dbl&gt; | loudness &lt;dbl&gt; | speechiness &lt;dbl&gt; | tempo &lt;dbl&gt; | valence &lt;dbl&gt; | popularity &lt;dbl&gt; | key &lt;dbl&gt; | mode &lt;dbl&gt; |\n",
       "|---|---|---|---|---|---|---|---|---|---|---|---|---|---|\n",
       "| 1920 | 0.6312423 | 0.5157501 | 238093.0 | 0.4186996 | 0.3542185 | 0.2160493 | -12.65402 | 0.08298367 | 113.2269 | 0.4982100 | 0.61031519 | 2 | 1 |\n",
       "| 1921 | 0.8621051 | 0.4321705 | 257891.8 | 0.2411363 | 0.3371583 | 0.2052186 | -16.81166 | 0.07895192 | 102.4254 | 0.3782756 | 0.39102564 | 2 | 1 |\n",
       "| 1922 | 0.8289339 | 0.5756198 | 140135.1 | 0.2261726 | 0.2547755 | 0.2566620 | -20.84008 | 0.46436777 | 100.0331 | 0.5711901 | 0.09090909 | 5 | 1 |\n",
       "| ⋮ | ⋮ | ⋮ | ⋮ | ⋮ | ⋮ | ⋮ | ⋮ | ⋮ | ⋮ | ⋮ | ⋮ | ⋮ | ⋮ |\n",
       "| 2019 | 0.2613443 | 0.6031014 | 225463.3 | 0.6297811 | 0.2211233 | 0.2185007 | -8.527674 | 0.1068201 | 122.4197 | 0.4578132 | 32.346930 | 7 | 1 |\n",
       "| 2020 | 0.2023032 | 0.6052854 | 218977.5 | 0.6742474 | 0.2490081 | 0.2344148 | -8.077563 | 0.1006286 | 124.0583 | 0.4680301 | 24.064741 | 0 | 1 |\n",
       "| 2021 | 0.3402534 | 0.6524884 | 222760.0 | 0.5788958 | 0.3567655 | 0.1623094 | -9.547752 | 0.1085589 | 120.5259 | 0.4519082 |  7.750543 | 7 | 1 |\n",
       "\n"
      ],
      "text/plain": [
       "    year acousticness danceability duration_ms energy    instrumentalness\n",
       "1   1920 0.6312423    0.5157501    238093.0    0.4186996 0.3542185       \n",
       "2   1921 0.8621051    0.4321705    257891.8    0.2411363 0.3371583       \n",
       "3   1922 0.8289339    0.5756198    140135.1    0.2261726 0.2547755       \n",
       "⋮   ⋮    ⋮            ⋮            ⋮           ⋮         ⋮               \n",
       "100 2019 0.2613443    0.6031014    225463.3    0.6297811 0.2211233       \n",
       "101 2020 0.2023032    0.6052854    218977.5    0.6742474 0.2490081       \n",
       "102 2021 0.3402534    0.6524884    222760.0    0.5788958 0.3567655       \n",
       "    liveness  loudness  speechiness tempo    valence   popularity key mode\n",
       "1   0.2160493 -12.65402 0.08298367  113.2269 0.4982100 0.61031519 2   1   \n",
       "2   0.2052186 -16.81166 0.07895192  102.4254 0.3782756 0.39102564 2   1   \n",
       "3   0.2566620 -20.84008 0.46436777  100.0331 0.5711901 0.09090909 5   1   \n",
       "⋮   ⋮         ⋮         ⋮           ⋮        ⋮         ⋮          ⋮   ⋮   \n",
       "100 0.2185007 -8.527674 0.1068201   122.4197 0.4578132 32.346930  7   1   \n",
       "101 0.2344148 -8.077563 0.1006286   124.0583 0.4680301 24.064741  0   1   \n",
       "102 0.1623094 -9.547752 0.1085589   120.5259 0.4519082  7.750543  7   1   "
      ]
     },
     "metadata": {},
     "output_type": "display_data"
    }
   ],
   "source": [
    "# Reading the raw data \n",
    "spotify_year_data <- read_csv(\"data/data_by_year.csv\")\n",
    "spotify_year_data"
   ]
  },
  {
   "cell_type": "code",
   "execution_count": 12,
   "metadata": {},
   "outputs": [
    {
     "data": {
      "text/html": [
       "<table>\n",
       "<caption>A tibble: 102 × 12</caption>\n",
       "<thead>\n",
       "\t<tr><th scope=col>year</th><th scope=col>acousticness</th><th scope=col>danceability</th><th scope=col>duration_ms</th><th scope=col>energy</th><th scope=col>instrumentalness</th><th scope=col>liveness</th><th scope=col>loudness</th><th scope=col>speechiness</th><th scope=col>tempo</th><th scope=col>valence</th><th scope=col>popularity</th></tr>\n",
       "\t<tr><th scope=col>&lt;dbl&gt;</th><th scope=col>&lt;dbl&gt;</th><th scope=col>&lt;dbl&gt;</th><th scope=col>&lt;dbl&gt;</th><th scope=col>&lt;dbl&gt;</th><th scope=col>&lt;dbl&gt;</th><th scope=col>&lt;dbl&gt;</th><th scope=col>&lt;dbl&gt;</th><th scope=col>&lt;dbl&gt;</th><th scope=col>&lt;dbl&gt;</th><th scope=col>&lt;dbl&gt;</th><th scope=col>&lt;dbl&gt;</th></tr>\n",
       "</thead>\n",
       "<tbody>\n",
       "\t<tr><td>1920</td><td>0.6312423</td><td>0.5157501</td><td>238093.0</td><td>0.4186996</td><td>0.3542185</td><td>0.2160493</td><td>-12.65402</td><td>0.08298367</td><td>113.2269</td><td>0.4982100</td><td>0.61031519</td></tr>\n",
       "\t<tr><td>1921</td><td>0.8621051</td><td>0.4321705</td><td>257891.8</td><td>0.2411363</td><td>0.3371583</td><td>0.2052186</td><td>-16.81166</td><td>0.07895192</td><td>102.4254</td><td>0.3782756</td><td>0.39102564</td></tr>\n",
       "\t<tr><td>1922</td><td>0.8289339</td><td>0.5756198</td><td>140135.1</td><td>0.2261726</td><td>0.2547755</td><td>0.2566620</td><td>-20.84008</td><td>0.46436777</td><td>100.0331</td><td>0.5711901</td><td>0.09090909</td></tr>\n",
       "\t<tr><td>⋮</td><td>⋮</td><td>⋮</td><td>⋮</td><td>⋮</td><td>⋮</td><td>⋮</td><td>⋮</td><td>⋮</td><td>⋮</td><td>⋮</td><td>⋮</td></tr>\n",
       "\t<tr><td>2019</td><td>0.2613443</td><td>0.6031014</td><td>225463.3</td><td>0.6297811</td><td>0.2211233</td><td>0.2185007</td><td>-8.527674</td><td>0.1068201</td><td>122.4197</td><td>0.4578132</td><td>32.346930</td></tr>\n",
       "\t<tr><td>2020</td><td>0.2023032</td><td>0.6052854</td><td>218977.5</td><td>0.6742474</td><td>0.2490081</td><td>0.2344148</td><td>-8.077563</td><td>0.1006286</td><td>124.0583</td><td>0.4680301</td><td>24.064741</td></tr>\n",
       "\t<tr><td>2021</td><td>0.3402534</td><td>0.6524884</td><td>222760.0</td><td>0.5788958</td><td>0.3567655</td><td>0.1623094</td><td>-9.547752</td><td>0.1085589</td><td>120.5259</td><td>0.4519082</td><td> 7.750543</td></tr>\n",
       "</tbody>\n",
       "</table>\n"
      ],
      "text/latex": [
       "A tibble: 102 × 12\n",
       "\\begin{tabular}{llllllllllll}\n",
       " year & acousticness & danceability & duration\\_ms & energy & instrumentalness & liveness & loudness & speechiness & tempo & valence & popularity\\\\\n",
       " <dbl> & <dbl> & <dbl> & <dbl> & <dbl> & <dbl> & <dbl> & <dbl> & <dbl> & <dbl> & <dbl> & <dbl>\\\\\n",
       "\\hline\n",
       "\t 1920 & 0.6312423 & 0.5157501 & 238093.0 & 0.4186996 & 0.3542185 & 0.2160493 & -12.65402 & 0.08298367 & 113.2269 & 0.4982100 & 0.61031519\\\\\n",
       "\t 1921 & 0.8621051 & 0.4321705 & 257891.8 & 0.2411363 & 0.3371583 & 0.2052186 & -16.81166 & 0.07895192 & 102.4254 & 0.3782756 & 0.39102564\\\\\n",
       "\t 1922 & 0.8289339 & 0.5756198 & 140135.1 & 0.2261726 & 0.2547755 & 0.2566620 & -20.84008 & 0.46436777 & 100.0331 & 0.5711901 & 0.09090909\\\\\n",
       "\t ⋮ & ⋮ & ⋮ & ⋮ & ⋮ & ⋮ & ⋮ & ⋮ & ⋮ & ⋮ & ⋮ & ⋮\\\\\n",
       "\t 2019 & 0.2613443 & 0.6031014 & 225463.3 & 0.6297811 & 0.2211233 & 0.2185007 & -8.527674 & 0.1068201 & 122.4197 & 0.4578132 & 32.346930\\\\\n",
       "\t 2020 & 0.2023032 & 0.6052854 & 218977.5 & 0.6742474 & 0.2490081 & 0.2344148 & -8.077563 & 0.1006286 & 124.0583 & 0.4680301 & 24.064741\\\\\n",
       "\t 2021 & 0.3402534 & 0.6524884 & 222760.0 & 0.5788958 & 0.3567655 & 0.1623094 & -9.547752 & 0.1085589 & 120.5259 & 0.4519082 &  7.750543\\\\\n",
       "\\end{tabular}\n"
      ],
      "text/markdown": [
       "\n",
       "A tibble: 102 × 12\n",
       "\n",
       "| year &lt;dbl&gt; | acousticness &lt;dbl&gt; | danceability &lt;dbl&gt; | duration_ms &lt;dbl&gt; | energy &lt;dbl&gt; | instrumentalness &lt;dbl&gt; | liveness &lt;dbl&gt; | loudness &lt;dbl&gt; | speechiness &lt;dbl&gt; | tempo &lt;dbl&gt; | valence &lt;dbl&gt; | popularity &lt;dbl&gt; |\n",
       "|---|---|---|---|---|---|---|---|---|---|---|---|\n",
       "| 1920 | 0.6312423 | 0.5157501 | 238093.0 | 0.4186996 | 0.3542185 | 0.2160493 | -12.65402 | 0.08298367 | 113.2269 | 0.4982100 | 0.61031519 |\n",
       "| 1921 | 0.8621051 | 0.4321705 | 257891.8 | 0.2411363 | 0.3371583 | 0.2052186 | -16.81166 | 0.07895192 | 102.4254 | 0.3782756 | 0.39102564 |\n",
       "| 1922 | 0.8289339 | 0.5756198 | 140135.1 | 0.2261726 | 0.2547755 | 0.2566620 | -20.84008 | 0.46436777 | 100.0331 | 0.5711901 | 0.09090909 |\n",
       "| ⋮ | ⋮ | ⋮ | ⋮ | ⋮ | ⋮ | ⋮ | ⋮ | ⋮ | ⋮ | ⋮ | ⋮ |\n",
       "| 2019 | 0.2613443 | 0.6031014 | 225463.3 | 0.6297811 | 0.2211233 | 0.2185007 | -8.527674 | 0.1068201 | 122.4197 | 0.4578132 | 32.346930 |\n",
       "| 2020 | 0.2023032 | 0.6052854 | 218977.5 | 0.6742474 | 0.2490081 | 0.2344148 | -8.077563 | 0.1006286 | 124.0583 | 0.4680301 | 24.064741 |\n",
       "| 2021 | 0.3402534 | 0.6524884 | 222760.0 | 0.5788958 | 0.3567655 | 0.1623094 | -9.547752 | 0.1085589 | 120.5259 | 0.4519082 |  7.750543 |\n",
       "\n"
      ],
      "text/plain": [
       "    year acousticness danceability duration_ms energy    instrumentalness\n",
       "1   1920 0.6312423    0.5157501    238093.0    0.4186996 0.3542185       \n",
       "2   1921 0.8621051    0.4321705    257891.8    0.2411363 0.3371583       \n",
       "3   1922 0.8289339    0.5756198    140135.1    0.2261726 0.2547755       \n",
       "⋮   ⋮    ⋮            ⋮            ⋮           ⋮         ⋮               \n",
       "100 2019 0.2613443    0.6031014    225463.3    0.6297811 0.2211233       \n",
       "101 2020 0.2023032    0.6052854    218977.5    0.6742474 0.2490081       \n",
       "102 2021 0.3402534    0.6524884    222760.0    0.5788958 0.3567655       \n",
       "    liveness  loudness  speechiness tempo    valence   popularity\n",
       "1   0.2160493 -12.65402 0.08298367  113.2269 0.4982100 0.61031519\n",
       "2   0.2052186 -16.81166 0.07895192  102.4254 0.3782756 0.39102564\n",
       "3   0.2566620 -20.84008 0.46436777  100.0331 0.5711901 0.09090909\n",
       "⋮   ⋮         ⋮         ⋮           ⋮        ⋮         ⋮         \n",
       "100 0.2185007 -8.527674 0.1068201   122.4197 0.4578132 32.346930 \n",
       "101 0.2344148 -8.077563 0.1006286   124.0583 0.4680301 24.064741 \n",
       "102 0.1623094 -9.547752 0.1085589   120.5259 0.4519082  7.750543 "
      ]
     },
     "metadata": {},
     "output_type": "display_data"
    }
   ],
   "source": [
    "# We do not require the coloumns key and mode as they are not relevant to the qualities of the song that make it popular. \n",
    "spotify_selected_parameters <- select(spotify_year_data, year:popularity)\n",
    "spotify_selected_parameters"
   ]
  },
  {
   "cell_type": "code",
   "execution_count": null,
   "metadata": {},
   "outputs": [],
   "source": []
  }
 ],
 "metadata": {
  "kernelspec": {
   "display_name": "R",
   "language": "R",
   "name": "ir"
  },
  "language_info": {
   "codemirror_mode": "r",
   "file_extension": ".r",
   "mimetype": "text/x-r-source",
   "name": "R",
   "pygments_lexer": "r",
   "version": "4.0.0"
  }
 },
 "nbformat": 4,
 "nbformat_minor": 4
}
